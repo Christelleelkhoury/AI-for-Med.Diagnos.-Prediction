{
  "cells": [
    {
      "cell_type": "markdown",
      "id": "hqsciY2oy2sB",
      "metadata": {
        "id": "hqsciY2oy2sB"
      },
      "source": [
        "# Notebook for Practical Exercises | Week #6 Project\n",
        "\n",
        "### Foundation Models for Multi-Modal AI\n",
        "\n",
        "In this notebook, we will leverage the MIMIC-CXR dataset, combining image studies and structured metadata (patient age, sex) to build and compare multi-modal classifiers. This exercise is divided into two main parts:\n",
        "\n",
        "1.  Multi-Modal Fusion (From Scratch): We will implement and train two fusion models from scratch using a ResNet backbone for image feature extraction.\n",
        "    *   Concatenation: A simple but effective method of combining image and metadata features.\n",
        "    *   Cross-Attention: A more advanced technique where metadata is used to selectively focus on relevant image features.\n",
        "\n",
        "2.  Foundation Model Adaptation: We will select a pre-trained medical Vision-Language Model (MedCLIP) and adapt it to our task using three popular strategies.\n",
        "    *   Linear Probing: The fastest adaptation method, where only a final classification layer is trained.\n",
        "    *   Partial Fine-Tuning: Updating a small, newly added classifier head.\n",
        "    *   LoRA Adaptation: An efficient fine-tuning method that freezes the backbone and trains small \"adapter\" layers.\n",
        "\n",
        "Finally, we will compare the performance (AUC, Accuracy, F1) and training cost (trainable parameters) of all five models."
      ]
    },
    {
      "cell_type": "markdown",
      "id": "6fd8094a-029c-4965-8b19-a93aec4d0223",
      "metadata": {
        "id": "6fd8094a-029c-4965-8b19-a93aec4d0223"
      },
      "source": [
        "## Dataset\n",
        "\n",
        "We will use a subset of the **MIMIC-CXR dataset** **[1][2]**. The MIMIC Chest X-ray (MIMIC-CXR) Database v2.0.0 is a large, publicly available dataset of chest radiographs in DICOM format, accompanied by free-text radiology reports. It contains 377,110 images from 227,835 radiographic studies conducted at the Beth Israel Deaconess Medical Center in Boston, MA. The dataset has been de-identified in compliance with the US Health Insurance Portability and Accountability Act of 1996 (HIPAA) Safe Harbor requirements. All protected health information (PHI) has been removed. More details: [https://mimic.mit.edu/docs/iv/modules/cxr/](https://mimic.mit.edu/docs/iv/modules/cxr/)\n"
      ]
    },
    {
      "cell_type": "markdown",
      "id": "uOecXT3BTH8S",
      "metadata": {
        "id": "uOecXT3BTH8S"
      },
      "source": [
        "### Download"
      ]
    },
    {
      "cell_type": "code",
      "execution_count": null,
      "id": "SesYdS5xTJK7",
      "metadata": {
        "id": "SesYdS5xTJK7"
      },
      "outputs": [],
      "source": [
        "DATA_PATH = \"./\"\n",
        "!curl https://uni-bonn.sciebo.de/s/cm2Rq2A5nQyQGsb/download/test_df.csv --output test_df.csv\n",
        "!curl https://uni-bonn.sciebo.de/s/REoaEMzmK8fsmYL/download/train_df.csv --output train_df.csv\n",
        "!curl https://uni-bonn.sciebo.de/s/K4isoXa6cENkHJp/download/val_df.csv --output val_df.csv\n",
        "\n",
        "!wget https://uni-bonn.sciebo.de/s/KrMiTk2X7sgBCwK/download/MIMIC-CXR-png.zip -O MIMIC-CXR-png.zip\n",
        "!unzip MIMIC-CXR-png.zip -d ./"
      ]
    },
    {
      "cell_type": "markdown",
      "id": "DsUzb5jEzbMp",
      "metadata": {
        "id": "DsUzb5jEzbMp"
      },
      "source": [
        "### Setup and Data Loading\n",
        "\n",
        "First, we'll set up our environment by installing necessary libraries and loading the pre-split MIMIC-CXR dataframes. We will focus on a single diagnostic task for this exercise: binary classification of the pathology.\n"
      ]
    },
    {
      "cell_type": "code",
      "execution_count": null,
      "id": "rJc5RlZk5iZG",
      "metadata": {
        "id": "rJc5RlZk5iZG"
      },
      "outputs": [],
      "source": [
        "!pip install -q transformers peft pandas torch torchvision scikit-learn"
      ]
    },
    {
      "cell_type": "code",
      "execution_count": null,
      "id": "njtD4h7-yrdb",
      "metadata": {
        "id": "njtD4h7-yrdb"
      },
      "outputs": [],
      "source": [
        "# Install required libraries\n",
        "import pandas as pd\n",
        "import numpy as np\n",
        "import matplotlib.pyplot as plt\n",
        "import os\n",
        "import warnings\n",
        "from PIL import Image\n",
        "from tqdm.notebook import tqdm\n",
        "\n",
        "import torch\n",
        "import torch.nn as nn\n",
        "import torchvision\n",
        "from torchvision import transforms, models\n",
        "from torch.utils.data import Dataset, DataLoader\n",
        "from transformers import AutoProcessor, AutoModel\n",
        "\n",
        "from sklearn.metrics import roc_auc_score, accuracy_score, f1_score\n",
        "from peft import get_peft_model, LoraConfig, TaskType\n",
        "\n",
        "warnings.filterwarnings(action=\"ignore\")\n",
        "device = torch.device(\"cuda\" if torch.cuda.is_available() else \"cpu\")\n",
        "print(f\"Using device: {device}\")"
      ]
    },
    {
      "cell_type": "code",
      "execution_count": null,
      "id": "1zo4vq3AJoVy",
      "metadata": {
        "id": "1zo4vq3AJoVy"
      },
      "outputs": [],
      "source": [
        "output_dir = './'\n",
        "\n",
        "train_df = pd.read_csv(os.path.join(output_dir, 'train_df.csv'))\n",
        "val_df = pd.read_csv(os.path.join(output_dir, 'val_df.csv'))\n",
        "test_df = pd.read_csv(os.path.join(output_dir, 'test_df.csv'))\n",
        "\n",
        "print(\"Dataframes loaded successfully.\")"
      ]
    },
    {
      "cell_type": "code",
      "execution_count": null,
      "id": "wDADQrGsJDgQ",
      "metadata": {
        "colab": {
          "base_uri": "https://localhost:8080/"
        },
        "id": "wDADQrGsJDgQ",
        "outputId": "f054b563-96b1-4a74-cca3-bcd314266342"
      },
      "outputs": [
        {
          "name": "stdout",
          "output_type": "stream",
          "text": [
            "\n",
            "Data loaded and merged for 'pathology' classification.\n",
            "Training samples: 268\n",
            "Validation samples: 46\n",
            "Test samples: 229\n"
          ]
        }
      ],
      "source": [
        "# Add the absolute image path\n",
        "IMG_DIR = './MIMIC-CXR-png/files-png'\n",
        "train_df['img_path'] = train_df.apply(lambda r: os.path.join(IMG_DIR, f\"p{r.subject_id}\", f\"s{r.study_id}\", f\"{r.dicom_id}.png\"), axis=1)\n",
        "val_df['img_path'] = val_df.apply(lambda r: os.path.join(IMG_DIR, f\"p{r.subject_id}\", f\"s{r.study_id}\", f\"{r.dicom_id}.png\"), axis=1)\n",
        "test_df['img_path'] = test_df.apply(lambda r: os.path.join(IMG_DIR, f\"p{r.subject_id}\", f\"s{r.study_id}\", f\"{r.dicom_id}.png\"), axis=1)\n",
        "\n",
        "# Define the Binary Label for pathology\n",
        "train_df['label'] = train_df['pathology'].astype(int)\n",
        "val_df['label'] = val_df['pathology'].astype(int)\n",
        "test_df['label'] = test_df['pathology'].astype(int)\n",
        "\n",
        "# Drop rows where proxy attributes might be missing\n",
        "train_df.dropna(subset=['projection', 'is_portable'], inplace=True)\n",
        "val_df.dropna(subset=['projection', 'is_portable'], inplace=True)\n",
        "test_df.dropna(subset=['projection', 'is_portable'], inplace=True)\n",
        "\n",
        "\n",
        "print(\"\\nData loaded and merged for 'pathology' classification.\")\n",
        "print(\"Training samples:\", len(train_df))\n",
        "print(\"Validation samples:\", len(val_df))\n",
        "print(\"Test samples:\", len(test_df))"
      ]
    },
    {
      "cell_type": "markdown",
      "id": "7WkCK54h1YID",
      "metadata": {
        "id": "7WkCK54h1YID"
      },
      "source": [
        "### Multi-Modal Fusion (From Scratch)\n",
        "\n",
        "#### Data Preparation\n",
        "First, we create a custom `Dataset` class that handles both the image and the structured tabular data (Age, Sex). The tabular data is normalized and one-hot encoded to be suitable for a neural network.\n"
      ]
    },
    {
      "cell_type": "code",
      "execution_count": null,
      "id": "mQXNSRhbLDDO",
      "metadata": {
        "colab": {
          "base_uri": "https://localhost:8080/"
        },
        "id": "mQXNSRhbLDDO",
        "outputId": "c35282b5-d7fd-4643-fa3c-b2c0b9c20547"
      },
      "outputs": [
        {
          "data": {
            "text/plain": [
              "projection\n",
              "AP    154\n",
              "PA    114\n",
              "Name: count, dtype: int64"
            ]
          },
          "execution_count": 4,
          "metadata": {},
          "output_type": "execute_result"
        }
      ],
      "source": [
        "train_df['projection'].value_counts()"
      ]
    },
    {
      "cell_type": "code",
      "execution_count": null,
      "id": "t_GbmF2k1eqC",
      "metadata": {
        "colab": {
          "base_uri": "https://localhost:8080/"
        },
        "id": "t_GbmF2k1eqC",
        "outputId": "828dd149-4b63-4d7e-a2a5-6424c51232cd"
      },
      "outputs": [
        {
          "name": "stdout",
          "output_type": "stream",
          "text": [
            "Tabular feature vector size: 4\n"
          ]
        }
      ],
      "source": [
        "# Preprocessing Proxy Attributes\n",
        "PROJECTION_MAP = {'AP': [1.0, 0.0, 0.0], 'PA': [0.0, 1.0, 0.0]}\n",
        "# Calculate the size of the tabular feature vector\n",
        "TABULAR_FEATURE_SIZE = len(PROJECTION_MAP['AP']) + 1  # One-hot for projection + 1 for portable\n",
        "\n",
        "def preprocess_tabular(projection, is_portable):\n",
        "    proj_onehot = PROJECTION_MAP.get(projection, [0.0, 0.0, 0.0]) # Default for safety\n",
        "    port_float = [1.0] if is_portable else [0.0]\n",
        "    return torch.tensor(proj_onehot + port_float, dtype=torch.float32)\n",
        "\n",
        "class MultiModalScratchDataset(Dataset):\n",
        "    def __init__(self, df, is_train=True):\n",
        "        self.df = df\n",
        "        self.transform = transforms.Compose([\n",
        "            transforms.Resize((224, 224)),\n",
        "            transforms.ToTensor(),\n",
        "            transforms.Normalize(mean=[0.485, 0.456, 0.406], std=[0.229, 0.224, 0.225])\n",
        "        ])\n",
        "\n",
        "    def __len__(self):\n",
        "        return len(self.df)\n",
        "\n",
        "    def __getitem__(self, idx):\n",
        "        row = self.df.iloc[idx]\n",
        "        image = Image.open(row['img_path']).convert('RGB')\n",
        "        image_tensor = self.transform(image)\n",
        "\n",
        "        tabular_tensor = preprocess_tabular(row['projection'], row['is_portable'])\n",
        "        label = torch.tensor(row['label'], dtype=torch.float32)\n",
        "\n",
        "        return image_tensor, tabular_tensor, label\n",
        "\n",
        "# Create DataLoaders\n",
        "train_ds_scratch = MultiModalScratchDataset(train_df)\n",
        "val_ds_scratch = MultiModalScratchDataset(val_df, is_train=False)\n",
        "test_ds_scratch = MultiModalScratchDataset(test_df, is_train=False)\n",
        "\n",
        "train_loader = DataLoader(train_ds_scratch, batch_size=32, shuffle=True, num_workers=2, drop_last=True)\n",
        "val_loader = DataLoader(val_ds_scratch, batch_size=32, shuffle=False, num_workers=2)\n",
        "test_loader = DataLoader(test_ds_scratch, batch_size=32, shuffle=False, num_workers=2)\n",
        "\n",
        "print(f\"Tabular feature vector size: {TABULAR_FEATURE_SIZE}\")"
      ]
    },
    {
      "cell_type": "markdown",
      "id": "byNo59yF1kiE",
      "metadata": {
        "id": "byNo59yF1kiE"
      },
      "source": [
        "\n",
        "#### Model Architectures\n",
        "Here we define our two fusion models from scratch. Both use a pre-trained ResNet-50 as the image feature extractor.\n",
        "\n",
        "Task: Complete the `forward` pass for both models.\n"
      ]
    },
    {
      "cell_type": "code",
      "execution_count": null,
      "id": "nTwGCjge1kqj",
      "metadata": {
        "id": "nTwGCjge1kqj"
      },
      "outputs": [],
      "source": [
        "# Image backbone\n",
        "def get_resnet_backbone():\n",
        "    resnet = models.resnet50(pretrained=True)\n",
        "    for param in resnet.parameters():\n",
        "        param.requires_grad = False\n",
        "    num_features = resnet.fc.in_features\n",
        "    resnet.fc = nn.Identity()\n",
        "    return resnet, num_features\n",
        "\n",
        "# Concatenation Model\n",
        "class ConcatFusionModel(nn.Module):\n",
        "    def __init__(self, num_img_features, num_tabular_features):\n",
        "        super().__init__()\n",
        "        self.image_backbone, _ = get_resnet_backbone()\n",
        "        self.tabular_mlp = nn.Sequential(nn.Linear(num_tabular_features, 64), nn.ReLU())\n",
        "        self.classifier = nn.Sequential(\n",
        "            nn.Linear(num_img_features + 64, 128),\n",
        "            nn.ReLU(), nn.Dropout(0.5),\n",
        "            nn.Linear(128, 1)\n",
        "        )\n",
        "    def forward(self, image, tabular):\n",
        "        img_features = self.image_backbone(image)\n",
        "        tab_features = self.tabular_mlp(tabular)\n",
        "        # Complete the line below to concatenate the features\n",
        "        combined = ... # COMPLETE\n",
        "        return self.classifier(combined)\n",
        "\n",
        "class CrossAttentionModel(nn.Module):\n",
        "    def __init__(self, num_img_features, num_tabular_features):\n",
        "        super().__init__()\n",
        "        # Backbone returns 2048-dim\n",
        "        self.image_backbone, _ = get_resnet_backbone()\n",
        "        # Project those 2048 → 512\n",
        "        self.img_proj = nn.Linear(num_img_features, 512)\n",
        "\n",
        "        # Tabular already goes to 512\n",
        "        self.tabular_mlp = nn.Sequential(\n",
        "            nn.Linear(num_tabular_features, 512),\n",
        "            nn.ReLU()\n",
        "        )\n",
        "\n",
        "        # Attention over 512-dim\n",
        "        self.attention = nn.MultiheadAttention(\n",
        "            embed_dim=512,\n",
        "            num_heads=4,\n",
        "            batch_first=True\n",
        "        )\n",
        "\n",
        "        # Classifier now sees 512 (attn) + 512 (tab) = 1024\n",
        "        self.classifier = nn.Sequential(\n",
        "            nn.Linear(512 * 2, 128),  # was num_img_features + 512 before\n",
        "            nn.ReLU(),\n",
        "            nn.Dropout(0.5),\n",
        "            nn.Linear(128, 1)\n",
        "        )\n",
        "\n",
        "    def forward(self, image, tabular):\n",
        "        # image: (B, C, H, W) → (B, 2048)\n",
        "        img_feat = self.image_backbone(image)\n",
        "        img_feat = self.img_proj(img_feat)     # → (B, 512)\n",
        "        img_feat = img_feat.unsqueeze(1)       # → (B, 1, 512)\n",
        "\n",
        "        # tabular: (B, num_tabular) → (B, 512)\n",
        "        tab_feat = self.tabular_mlp(tabular)\n",
        "        tab_feat = tab_feat.unsqueeze(1)       # → (B, 1, 512)\n",
        "\n",
        "        # cross‐attention\n",
        "        # Task: Use the tabular features as the query and image features as key/value\n",
        "        attn_out, _ = self.attention(...) # COMPLETE\n",
        "\n",
        "        # flatten & classify\n",
        "        # Task: Concatenate the attention output and tabular features\n",
        "        combined = torch.cat([...], dim=1) # COMPLETE\n",
        "\n",
        "        return self.classifier(combined).squeeze(1)\n"
      ]
    },
    {
      "cell_type": "markdown",
      "id": "w4cfsrBE1sxH",
      "metadata": {
        "id": "w4cfsrBE1sxH"
      },
      "source": [
        "#### Training and Evaluation\n",
        "We'll now train both models for a few epochs.\n",
        "\n",
        "Task: Complete the training loop below by adding the backpropagation and optimizer steps. Then, run the training for both scratch models."
      ]
    },
    {
      "cell_type": "code",
      "execution_count": null,
      "id": "V9tqU9k8Mmle",
      "metadata": {
        "colab": {
          "base_uri": "https://localhost:8080/",
          "height": 52,
          "referenced_widgets": [
            "f4a0a4c113304f80a7ed8e879b8aeb64",
            "262e5e66a1744f3491b7c07ca6cb5178",
            "f9ef9d1d6cac4d76a87058f67e82e4e2",
            "e9b7168ce3cb454fb766ca47e2070f28",
            "a8b76a85614f41739362f492062046c1",
            "c68102c6d6fc4523915e916ac86020c5",
            "ece91b5851ea47cd80306f78e93769f5",
            "f30c6066c2454a7e8067e87136c32f15",
            "ff3668a6bb1a4dbb9b560aa7781c40e3",
            "0788bea217964ac19e271eefa3ef7ddf",
            "4439342029db44ccaf152f46c58a44fc",
            "932aadfcae4b4404bf42960567fea94f",
            "c7ba4bb5894f4588b2cb63e155c57cdc",
            "87503f21180f429281341f2b61628283",
            "022ab22554204da48d528daf0e7db1d2",
            "040371a194084f48937b5ddc6ddaa9cb",
            "675050abb0dc4d90b66da9574230b7c6",
            "4ceeddd6d24548d09bfec3abd1306f44",
            "cf901dd1356f49e1bbabda4064e02204",
            "ccb10bac0d52492d91cbca3cce674c97",
            "ecf36036e4034c70aec31b4b4eb69962",
            "33997c37f10b4ccc99ce2f619e1a57af",
            "50883a22d1534dac9d213e181ccd8a00",
            "ee91e3097a4a40aba27225ca35b6a576",
            "d4e9532671174eceac626d0085cd3ec7",
            "b031a8b98aef4c548fe12b3d2e663f75",
            "4665c948cc374feca6c51114c6087c8d",
            "e70a724337b042ca9a6a29a7867b29f0",
            "4b91e17d753041dc98cf12a080ce75ca",
            "df0f3ca52b364bc096edd9f56ceb34c0",
            "3f2a7ad72b6a490abe8ade481d1a1172",
            "360504322ff7425f96402447ac173255",
            "e7cfe5562e954ec8bcb598e148c0fc9e",
            "ba0cf08d481f4eb7a0ce46d924222fa5",
            "37fc8e91fce445479d68a6467ffb55d5",
            "fefa093524f24e21bbdb76025bc72d79",
            "46683855db2e4e08934a0d8eec78c7fd",
            "8f3d6a2a09a84485aae0341d6c5e3ad4",
            "469a5dffd0cf4eb6905032d68f88ddf3",
            "8eb393b7f7474f89b9230ac58a2a34f6",
            "e9b24069bf20433d9a1068f2747dd6eb",
            "5f32b2d850c5427595cb54a4848f9156",
            "52434dd195d7496b8e9369e6df1081ce",
            "7c24de52ed06495488681f3dd12b0f38",
            "6afb55fc904f4038bc654d9c21119083",
            "63c80b2113c9494b89561fc4c37a994a",
            "65ddcc5ea05e4d1cb3e921ba6dbef0c3",
            "9807aec74ff44424a435106e151527e2",
            "01719c1483ba45d1bb86bff811766d99",
            "e5f18514b2874d01872ef814ee1597de",
            "ef3bd07b748c4833b155a3d5a4743167",
            "7eac9c3afebf485da322b7cd6e08953f",
            "39ec72c033674ed7bd0463e5ecac92b1",
            "70bae8fb931641faacfe6a3e872a489b",
            "7f157845f7a142f4ad6c40a103eb88c2",
            "832f52ab3b414339ac5d22cfe05f5a79",
            "ac9024ba506b4305a998397cd915df84",
            "1ec5a3db3fc545ec9de3b6c05d6126da",
            "4a39f158b37d48cab88a0bbcde43c7a8",
            "7f13a0ef82394a77bb910d42db2b7f49",
            "388258129b5e490da27ad9a97ae2e645",
            "e89a2e404c094a4ca5bdb71dbf722d53",
            "26bc735a7e0c4ef98934a39e2ac45601",
            "008ba6cadaaa4869b2b8d12168b4b6a7",
            "07312f9be3164499b54b77444bf1b932",
            "e24b94c194f0491f931980f12eab5cc9"
          ]
        },
        "id": "V9tqU9k8Mmle",
        "outputId": "38bf1d2c-2d8f-4b59-dba7-65bd82245639"
      },
      "outputs": [
        {
          "name": "stdout",
          "output_type": "stream",
          "text": [
            "--- Training Concatenation (Scratch) ---\n"
          ]
        },
        {
          "data": {
            "application/vnd.jupyter.widget-view+json": {
              "model_id": "f4a0a4c113304f80a7ed8e879b8aeb64",
              "version_major": 2,
              "version_minor": 0
            },
            "text/plain": [
              "Epoch 1:   0%|          | 0/8 [00:00<?, ?it/s]"
            ]
          },
          "metadata": {},
          "output_type": "display_data"
        },
        {
          "data": {
            "application/vnd.jupyter.widget-view+json": {
              "model_id": "932aadfcae4b4404bf42960567fea94f",
              "version_major": 2,
              "version_minor": 0
            },
            "text/plain": [
              "Epoch 2:   0%|          | 0/8 [00:00<?, ?it/s]"
            ]
          },
          "metadata": {},
          "output_type": "display_data"
        },
        {
          "data": {
            "application/vnd.jupyter.widget-view+json": {
              "model_id": "50883a22d1534dac9d213e181ccd8a00",
              "version_major": 2,
              "version_minor": 0
            },
            "text/plain": [
              "Evaluating Concatenation (Scratch):   0%|          | 0/8 [00:00<?, ?it/s]"
            ]
          },
          "metadata": {},
          "output_type": "display_data"
        },
        {
          "name": "stdout",
          "output_type": "stream",
          "text": [
            "--- Training Cross-Attention (Scratch) ---\n"
          ]
        },
        {
          "data": {
            "application/vnd.jupyter.widget-view+json": {
              "model_id": "ba0cf08d481f4eb7a0ce46d924222fa5",
              "version_major": 2,
              "version_minor": 0
            },
            "text/plain": [
              "Epoch 1:   0%|          | 0/8 [00:00<?, ?it/s]"
            ]
          },
          "metadata": {},
          "output_type": "display_data"
        },
        {
          "data": {
            "application/vnd.jupyter.widget-view+json": {
              "model_id": "6afb55fc904f4038bc654d9c21119083",
              "version_major": 2,
              "version_minor": 0
            },
            "text/plain": [
              "Epoch 2:   0%|          | 0/8 [00:00<?, ?it/s]"
            ]
          },
          "metadata": {},
          "output_type": "display_data"
        },
        {
          "data": {
            "application/vnd.jupyter.widget-view+json": {
              "model_id": "832f52ab3b414339ac5d22cfe05f5a79",
              "version_major": 2,
              "version_minor": 0
            },
            "text/plain": [
              "Evaluating Cross-Attention (Scratch):   0%|          | 0/8 [00:00<?, ?it/s]"
            ]
          },
          "metadata": {},
          "output_type": "display_data"
        }
      ],
      "source": [
        "def train_and_evaluate(model, model_name, train_loader_to_use, test_loader_to_use):\n",
        "    print(f\"--- Training {model_name} ---\")\n",
        "    model.to(device)\n",
        "    optimizer = torch.optim.Adam(filter(lambda p: p.requires_grad, model.parameters()), lr=1e-4)\n",
        "    criterion = nn.BCEWithLogitsLoss()\n",
        "\n",
        "    for epoch in range(2): # Keep epochs low for a quick run\n",
        "        model.train()\n",
        "        for images, tabular, labels in tqdm(train_loader_to_use, desc=f\"Epoch {epoch+1}\"):\n",
        "            images, tabular, labels = images.to(device), tabular.to(device), labels.to(device)\n",
        "\n",
        "            # Task: Complete the training step\n",
        "            optimizer.zero_grad()\n",
        "            outputs = ... # COMPLETE\n",
        "            loss =... # COMPLETE\n",
        "            ... # COMPLETE (loss backward)\n",
        "            ... # COMPLETE (optimizer step)\n",
        "\n",
        "    # Evaluation\n",
        "    model.eval()\n",
        "    all_labels, all_probs = [], []\n",
        "    with torch.no_grad():\n",
        "        for images, tabular, labels in tqdm(test_loader_to_use, desc=f\"Evaluating {model_name}\"):\n",
        "            images, tabular = images.to(device), tabular.to(device)\n",
        "            outputs = model(images, tabular)\n",
        "            probs = torch.sigmoid(outputs.squeeze())\n",
        "            all_labels.extend(labels.cpu().numpy())\n",
        "            all_probs.extend(probs.cpu().numpy())\n",
        "\n",
        "    auc = roc_auc_score(all_labels, all_probs)\n",
        "    acc = accuracy_score(all_labels, (np.array(all_probs) > 0.5).astype(int))\n",
        "    f1 = f1_score(all_labels, (np.array(all_probs) > 0.5).astype(int))\n",
        "\n",
        "    return {'name': model_name, 'auc': auc, 'acc': acc, 'f1': f1, 'params': sum(p.numel() for p in model.parameters() if p.requires_grad)}\n",
        "\n",
        "# Run for both scratch models\n",
        "_, num_img_features = get_resnet_backbone()\n",
        "concat_model = ConcatFusionModel(num_img_features, TABULAR_FEATURE_SIZE)\n",
        "attention_model = CrossAttentionModel(num_img_features, TABULAR_FEATURE_SIZE)\n",
        "\n",
        "results = []\n",
        "results.append(train_and_evaluate(concat_model, \"Concatenation (Scratch)\", train_loader, test_loader))\n",
        "results.append(train_and_evaluate(attention_model, \"Cross-Attention (Scratch)\", train_loader, test_loader))"
      ]
    },
    {
      "cell_type": "code",
      "execution_count": null,
      "id": "1-GIkKuRjms6",
      "metadata": {
        "colab": {
          "base_uri": "https://localhost:8080/"
        },
        "id": "1-GIkKuRjms6",
        "outputId": "b52b9af2-1878-4ee8-a777-bce8aee1eefb"
      },
      "outputs": [
        {
          "data": {
            "text/plain": [
              "[{'name': 'Concatenation (Scratch)',\n",
              "  'auc': 0.709896557048016,\n",
              "  'acc': 0.5021834061135371,\n",
              "  'f1': 0.6392405063291139,\n",
              "  'params': 270913},\n",
              " {'name': 'Cross-Attention (Scratch)',\n",
              "  'auc': 0.7655550409140034,\n",
              "  'acc': 0.6462882096069869,\n",
              "  'f1': 0.6920152091254753,\n",
              "  'params': 2233601}]"
            ]
          },
          "execution_count": 32,
          "metadata": {},
          "output_type": "execute_result"
        }
      ],
      "source": [
        "results"
      ]
    },
    {
      "cell_type": "markdown",
      "id": "ULH5hLhF22EH",
      "metadata": {
        "id": "ULH5hLhF22EH"
      },
      "source": [
        "## Part 2: Foundation Model Adaptation\n",
        "### Setting up MedCLIP\n",
        "Now we'll use a powerful, pre-trained medical foundation model called MedCLIP. It was trained on a large dataset of radiology images and their corresponding reports, learning rich visual features. We'll load it from Hugging Face.\n",
        "\n",
        "\n",
        "Task: Create a new `Dataset` class for MedCLIP. The main difference is that we need to use the model's specific `processor` to prepare the images."
      ]
    },
    {
      "cell_type": "code",
      "execution_count": null,
      "id": "ZeCaN8hI22Qp",
      "metadata": {
        "id": "ZeCaN8hI22Qp"
      },
      "outputs": [],
      "source": [
        "# Load MedCLIP Model and Processor\n",
        "processor = AutoProcessor.from_pretrained(\"flaviagiammarino/pubmed-clip-vit-base-patch32\")\n",
        "medclip_model   = AutoModel.from_pretrained(\"flaviagiammarino/pubmed-clip-vit-base-patch32\")\n",
        "\n",
        "# freeze every parameter in the vision backbone + its projection head\n",
        "for param in medclip_model.vision_model.parameters():\n",
        "    param.requires_grad = False\n",
        "for param in medclip_model.visual_projection.parameters():\n",
        "    param.requires_grad = False\n",
        "\n",
        "\n",
        "# New Dataset for MedCLIP\n",
        "class MultiModalFMDataset(Dataset):\n",
        "    def __init__(self, df):\n",
        "        self.df = df\n",
        "\n",
        "    def __len__(self):\n",
        "        return len(self.df)\n",
        "\n",
        "    def __getitem__(self, idx):\n",
        "        row = self.df.iloc[idx]\n",
        "        image = Image.open(row['img_path']).convert('RGB')\n",
        "        # Task: Use the processor to prepare the image\n",
        "        image_inputs = ... # COMPLETE\n",
        "\n",
        "        tabular_tensor = preprocess_tabular(row['projection'], row['is_portable'])\n",
        "        label = torch.tensor(row['label'], dtype=torch.float32)\n",
        "\n",
        "        return image_inputs['pixel_values'].squeeze(0), tabular_tensor, label\n",
        "\n",
        "# Create DataLoaders for the Foundation Model\n",
        "train_ds_fm = MultiModalFMDataset(train_df)\n",
        "test_ds_fm = MultiModalFMDataset(test_df)\n",
        "\n",
        "train_loader_fm = DataLoader(train_ds_fm, batch_size=16, shuffle=True, num_workers=2, drop_last=True)\n",
        "test_loader_fm = DataLoader(test_ds_fm, batch_size=16, shuffle=False, num_workers=2)"
      ]
    },
    {
      "cell_type": "markdown",
      "id": "fZWz4zpb2iMO",
      "metadata": {
        "id": "fZWz4zpb2iMO"
      },
      "source": [
        "#### 2.2 Defining Adaptation Models\n",
        "Here we define the three adaptation strategies: Linear Probing, Partial Fine-Tuning, and LoRA.\n",
        "\n",
        "Task: Complete the definitions for the three adaptation strategies:\n"
      ]
    },
    {
      "cell_type": "code",
      "execution_count": null,
      "id": "8YYGKu8-2iUd",
      "metadata": {
        "id": "8YYGKu8-2iUd"
      },
      "outputs": [],
      "source": [
        "import torch.nn as nn\n",
        "from peft import LoraConfig, get_peft_model, TaskType\n",
        "from transformers import CLIPModel\n",
        "\n",
        "\n",
        "def _get_embed_dim(model):\n",
        "    # full CLIPModel has a visual_projection layer\n",
        "    if hasattr(model, \"visual_projection\"):\n",
        "        return model.visual_projection.out_features\n",
        "    # vision-only CLIPVisionModel uses hidden_size or projection_dim\n",
        "    cfg = model.config\n",
        "    # CLIPVisionConfig defines hidden_size; other variants may name it projection_dim\n",
        "    return getattr(cfg, \"hidden_size\", getattr(cfg, \"projection_dim\", None))\n",
        "\n",
        "\n",
        "# Linear Probing Model\n",
        "class LinearProbeModel(nn.Module):\n",
        "    def __init__(self, clip_model: CLIPModel, num_tabular_features: int):\n",
        "        super().__init__()\n",
        "        self.clip = clip_model\n",
        "\n",
        "        embed_dim  = _get_embed_dim(clip_model)\n",
        "        fusion_dim = embed_dim + num_tabular_features\n",
        "        # Task: Define a single linear layer for classification\n",
        "        self.classifier = ... # COMPLETE (nn.Linear(...))\n",
        "\n",
        "    def forward(self, pixel_values, tabular):\n",
        "        # use the CLIP helper to get embeddings\n",
        "        img_emb  = self.clip.get_image_features(pixel_values=pixel_values)\n",
        "        x        = torch.cat([img_emb, tabular], dim=1)\n",
        "        return self.classifier(x).squeeze(1)\n",
        "\n",
        "\n",
        "# Partial Fine-Tuning Model\n",
        "class PartialFTModel(nn.Module):\n",
        "    def __init__(self, clip_model: CLIPModel, num_tabular_features: int):\n",
        "        super().__init__()\n",
        "        self.clip = clip_model\n",
        "\n",
        "        # (you can unfreeze some layers here if you like)\n",
        "        # for name, p in self.clip.vision_model.named_parameters():\n",
        "        #     if \"layer_norm\" in name or \"resblocks.11\" in name:\n",
        "        #         p.requires_grad = True\n",
        "        #     else:\n",
        "        #         p.requires_grad = False\n",
        "\n",
        "        embed_dim  = _get_embed_dim(clip_model)\n",
        "        fusion_dim = embed_dim + num_tabular_features\n",
        "        # Task: Define a small MLP classifier head\n",
        "        self.classifier = nn.Sequential(\n",
        "            ... # COMPLETE (nn.Linear, nn.ReLU, nn.Dropout, nn.Linear)\n",
        "        )\n",
        "\n",
        "    def forward(self, pixel_values, tabular):\n",
        "        img_emb = self.clip.get_image_features(pixel_values=pixel_values)\n",
        "        x       = torch.cat([img_emb, tabular], dim=1)\n",
        "        return self.classifier(x).squeeze(1)\n",
        "\n",
        "\n",
        "# LoRA Adaptation Model\n",
        "class LoRAModel(nn.Module):\n",
        "    def __init__(self, clip_model: CLIPModel, num_tabular_features: int):\n",
        "        super().__init__()\n",
        "        # inject into the transformer q_proj/v_proj\n",
        "        lora_cfg = LoraConfig(\n",
        "            task_type=TaskType.FEATURE_EXTRACTION,\n",
        "            r=16, lora_alpha=16, lora_dropout=0.1,\n",
        "            target_modules=[\"q_proj\", \"v_proj\"],\n",
        "        )\n",
        "        # wrap the entire CLIPModel\n",
        "        self.clip = get_peft_model(clip_model, lora_cfg)\n",
        "\n",
        "        embed_dim  = _get_embed_dim(clip_model)\n",
        "        fusion_dim = embed_dim + num_tabular_features\n",
        "        # Task: Wrap the clip_model with the LoRA config\n",
        "        self.clip = ... # COMPLETE (get_peft_model(...))\n",
        "\n",
        "    def forward(self, pixel_values, tabular):\n",
        "        img_emb = self.clip.get_image_features(pixel_values=pixel_values)\n",
        "        x       = torch.cat([img_emb, tabular], dim=1)\n",
        "        return self.classifier(x).squeeze(1)"
      ]
    },
    {
      "cell_type": "markdown",
      "id": "fLVxe0WD3OKi",
      "metadata": {
        "id": "fLVxe0WD3OKi"
      },
      "source": [
        "### Training and Evaluating Adapted Models\n",
        "Now we'll run the same training and evaluation loop for our three adapted foundation models."
      ]
    },
    {
      "cell_type": "code",
      "execution_count": null,
      "id": "LQv3sA6R3VW9",
      "metadata": {
        "colab": {
          "base_uri": "https://localhost:8080/",
          "height": 69,
          "referenced_widgets": [
            "ae7a3c79d90c4ea7a5780403693de868",
            "a46ba6fee6824bc787556582c682db90",
            "2a153d09f6fa427986d18b5620329cda",
            "d28d961e9168479eaabfe3f1d4883139",
            "8d09f23bd36547f5bd8d4a21aaee7597",
            "f3ccf624e1fc4e9590a0cbadb669d657",
            "08a86ae6f1a445c1861a707cf45acb6c",
            "da67fcbc29b84696aca266f5c70448d4",
            "173ad3f05a664092a466bb43eaa38191",
            "e11387f94ca54d3a804911973905c478",
            "b24a2f955ae74261bbc5f6ac3f82069d",
            "4d210b4ea5ad4e48ae63eb1e8c6af5de",
            "0a9c875dcfd646d58451cdf7ea9da06d",
            "9bca8194c3544bbda28f01eb172d83fd",
            "467312e08f654aebab1ebbb589fb7d6e",
            "45052be1265c47c69068297089f75c63",
            "746bc39d95dd4d5ba54d250baff50621",
            "069b8cb0f06d4dfe91c369bf07d1bc18",
            "baa19716b34a4c97acc22f119a8f2968",
            "a85c86bb44854977b610df639168871c",
            "4af85f1dd9d940298fca639984a405b0",
            "6e35f55e76b34581888e1f8344148c7f",
            "73faa83a26454d66bb4beb55fadfdaae",
            "22283807239549c689a3e88656dd79f7",
            "bea4ac2bf52044858e7c3a0d408bf035",
            "916aa2aabd694133afe62a12f057c7a3",
            "26b1e31a07ca4551ba841b4e6f6e133f",
            "d6c324bd27a646a68c019d46f36522f3",
            "344c4211ee634ce9b769e392ee50c88e",
            "3b26edb58ee64b89b7ae71ea973983cf",
            "82c02ace33e046c7a9a9f38a5f9e585a",
            "077008cd24f94b55b4e85d45b54f8b21",
            "80233b19e85e4b62ad93b4ea646df97a",
            "c3c5265fa5d84731bdf76b783eff9be8",
            "85085984de694ddfadeb8a3d650cf99c",
            "924ffec5555847088d7fd09cb254a5c3",
            "4b2f44cd81c44630b197609156a19aad",
            "df2f9aac2aef4eadacbf0f9725f332ec",
            "2cadd58be8c847f59f5425d8238b4139",
            "5584ed2eebbf40939b3e8ec845457291",
            "0c77e9f59c1b47dc970953256ca59330",
            "a63efa7882364e73be525a6f95488f53",
            "fe81652b95414f8eb205281da4c71685",
            "cacf386de8ed4c19b911fdf397314027",
            "dc5ce3287f484cf79fe198971645f5c7",
            "1f285e274eb74b8a8845ac7e24e35a79",
            "7f321064c0744eeeaac82d8030402e45",
            "26d5a227d59c4905ac4a0fa3a1e4cd47",
            "59f65a1b7aa0477195d97c4bb666b3e1",
            "607fe3e1c9744e5eb72ec3c5c50a5314",
            "7eb2d53db2fb44df8b17364ac5afa2eb",
            "deb303b9b35242dba7a9ef6dd774dd6e",
            "ff17f7f3b69d4290acfb63f682a14ac1",
            "73e3d15a219444d8a4febc87af0ef72c",
            "ee528e29e4834a40bbac55196ac99609",
            "2e4935e7d91548d88c401cfad27319e9",
            "a402d05baa01476aa45fc747a8d770ab",
            "5dbd99df7ef74752b0d2ec5aa11e62d3",
            "0507a656ac704033a85b13359d8f5058",
            "dbe231adb15a447a8e724d51da577a8d",
            "e3336e54b3a746f18e6439d973c3bcfe",
            "90543c1d7fea4e269da550b1a4c3f03d",
            "3cb33de1e02e4a2bb70be6018e53c86a",
            "8f49e84343634904b9ccddf68c6e567f",
            "876a9956b50d4adcb3be5529b29be731",
            "fb6e94fd33fa4baea866479dc13e8c18",
            "d74076937a6d4b2faa4d29e0f3e0f9e1",
            "b3884e1578be4833a68b02ff1084bb75",
            "199c278cac284cc8ad1d3e3870e2db0a",
            "41fa59efbda8492094e12711eee5e485",
            "eb21781fa0dd4e10a14ac3dfd8ff0918",
            "e50b765e3f0c416e9181f19fbcb4e6f8",
            "bcc997c3596943b0b24b3b1d94cd592a",
            "aa31de0679454c44a99d0507c935eb1a",
            "79ea3e81088c439b89334ede1066ec93",
            "be310b66ea254cfeae22c3be8f065460",
            "b920aeb4bdb8474194483863d7351b5a",
            "8a05e3b01ac446e2b3ea4b23629e65b3",
            "6961765d6ceb484dbaf7593338bb713c",
            "551e9cebd98449ad87843b3f0c9c7432",
            "e280be9e25104b1893aa85c182eb018f",
            "f66849d70d164641a0f7accbc8a802f6",
            "d267760219d8443e8dc140f1be5057a0",
            "bb4c1ef0220f4eb9a8329393b514d0aa",
            "54c3b2d5377441c786a94f2a8fd8b6ce",
            "89ac37712e024aed8ec2cca186299dca",
            "dfe7665f4d0042bd9c3bdbedcbd63850",
            "7059732a9e1e41d5924611a2d19fb23d",
            "132509846b3b42fd99c6586d9c119f86",
            "2fc4980d159a41cea5b068a4d8c31578",
            "745b115052134ef18705c52739148f74",
            "066fd2999ffc449e91749457747ff339",
            "65040c7c23114b30ace0a7fff55ed0d2",
            "efb0603906ed47e693c2e7e1e6f74f67",
            "1465377fb2a141059c96cc886184efec",
            "3b0ca8843f7b4e00b973747dba8cfa41",
            "8e74cba9e91a4a798e05e8872f088113",
            "bf1a7c37b7d6426dbe6f36e478ad6cb9",
            "621e8f1138a2413bb228da42047ff4a7"
          ]
        },
        "id": "LQv3sA6R3VW9",
        "outputId": "e2573679-d3c0-4974-ed3a-7520d3baf8ea"
      },
      "outputs": [
        {
          "name": "stdout",
          "output_type": "stream",
          "text": [
            "--- Training Linear Probing (MedCLIP) ---\n"
          ]
        },
        {
          "data": {
            "application/vnd.jupyter.widget-view+json": {
              "model_id": "ae7a3c79d90c4ea7a5780403693de868",
              "version_major": 2,
              "version_minor": 0
            },
            "text/plain": [
              "Epoch 1:   0%|          | 0/16 [00:00<?, ?it/s]"
            ]
          },
          "metadata": {},
          "output_type": "display_data"
        },
        {
          "data": {
            "application/vnd.jupyter.widget-view+json": {
              "model_id": "4d210b4ea5ad4e48ae63eb1e8c6af5de",
              "version_major": 2,
              "version_minor": 0
            },
            "text/plain": [
              "Epoch 2:   0%|          | 0/16 [00:00<?, ?it/s]"
            ]
          },
          "metadata": {},
          "output_type": "display_data"
        },
        {
          "data": {
            "application/vnd.jupyter.widget-view+json": {
              "model_id": "73faa83a26454d66bb4beb55fadfdaae",
              "version_major": 2,
              "version_minor": 0
            },
            "text/plain": [
              "Evaluating Linear Probing (MedCLIP):   0%|          | 0/15 [00:00<?, ?it/s]"
            ]
          },
          "metadata": {},
          "output_type": "display_data"
        },
        {
          "name": "stdout",
          "output_type": "stream",
          "text": [
            "--- Training Partial FT (MedCLIP) ---\n"
          ]
        },
        {
          "data": {
            "application/vnd.jupyter.widget-view+json": {
              "model_id": "c3c5265fa5d84731bdf76b783eff9be8",
              "version_major": 2,
              "version_minor": 0
            },
            "text/plain": [
              "Epoch 1:   0%|          | 0/16 [00:00<?, ?it/s]"
            ]
          },
          "metadata": {},
          "output_type": "display_data"
        },
        {
          "data": {
            "application/vnd.jupyter.widget-view+json": {
              "model_id": "dc5ce3287f484cf79fe198971645f5c7",
              "version_major": 2,
              "version_minor": 0
            },
            "text/plain": [
              "Epoch 2:   0%|          | 0/16 [00:00<?, ?it/s]"
            ]
          },
          "metadata": {},
          "output_type": "display_data"
        },
        {
          "data": {
            "application/vnd.jupyter.widget-view+json": {
              "model_id": "2e4935e7d91548d88c401cfad27319e9",
              "version_major": 2,
              "version_minor": 0
            },
            "text/plain": [
              "Evaluating Partial FT (MedCLIP):   0%|          | 0/15 [00:00<?, ?it/s]"
            ]
          },
          "metadata": {},
          "output_type": "display_data"
        },
        {
          "name": "stdout",
          "output_type": "stream",
          "text": [
            "--- Training LoRA (MedCLIP) ---\n"
          ]
        },
        {
          "data": {
            "application/vnd.jupyter.widget-view+json": {
              "model_id": "d74076937a6d4b2faa4d29e0f3e0f9e1",
              "version_major": 2,
              "version_minor": 0
            },
            "text/plain": [
              "Epoch 1:   0%|          | 0/16 [00:00<?, ?it/s]"
            ]
          },
          "metadata": {},
          "output_type": "display_data"
        },
        {
          "data": {
            "application/vnd.jupyter.widget-view+json": {
              "model_id": "8a05e3b01ac446e2b3ea4b23629e65b3",
              "version_major": 2,
              "version_minor": 0
            },
            "text/plain": [
              "Epoch 2:   0%|          | 0/16 [00:00<?, ?it/s]"
            ]
          },
          "metadata": {},
          "output_type": "display_data"
        },
        {
          "data": {
            "application/vnd.jupyter.widget-view+json": {
              "model_id": "132509846b3b42fd99c6586d9c119f86",
              "version_major": 2,
              "version_minor": 0
            },
            "text/plain": [
              "Evaluating LoRA (MedCLIP):   0%|          | 0/15 [00:00<?, ?it/s]"
            ]
          },
          "metadata": {},
          "output_type": "display_data"
        }
      ],
      "source": [
        "# --- Create instances of the adapted models ---\n",
        "linear_probe_model = ...# COMPLETE\n",
        "partial_ft_model = ...# COMPLETE\n",
        "lora_model = ...# COMPLETE\n",
        "\n",
        "# The evaluation function needs to be adapted for the new dataloaders\n",
        "def train_and_evaluate_fm(model, model_name, fm_train_loader, fm_test_loader):\n",
        "    print(f\"--- Training {model_name} ---\")\n",
        "    model.to(device)\n",
        "    # Only optimize parameters that require gradients\n",
        "    optimizer = torch.optim.Adam(filter(lambda p: p.requires_grad, model.parameters()), lr=5e-4)\n",
        "    criterion = nn.BCEWithLogitsLoss()\n",
        "\n",
        "    for epoch in range(2):\n",
        "        model.train()\n",
        "        for images, tabular, labels in tqdm(fm_train_loader, desc=f\"Epoch {epoch+1}\"):\n",
        "            images, tabular, labels = images.to(device), tabular.to(device), labels.to(device)\n",
        "            optimizer.zero_grad()\n",
        "            outputs = model(images, tabular)\n",
        "            loss = criterion(outputs.squeeze(), labels)\n",
        "            loss.backward()\n",
        "            optimizer.step()\n",
        "\n",
        "    # Evaluation\n",
        "    model.eval()\n",
        "    all_labels, all_probs = [], []\n",
        "    with torch.no_grad():\n",
        "        for images, tabular, labels in tqdm(fm_test_loader, desc=f\"Evaluating {model_name}\"):\n",
        "            images, tabular = images.to(device), tabular.to(device)\n",
        "            outputs = model(images, tabular)\n",
        "            probs = torch.sigmoid(outputs.squeeze())\n",
        "            all_labels.extend(labels.cpu().numpy())\n",
        "            all_probs.extend(probs.cpu().numpy())\n",
        "\n",
        "    auc = roc_auc_score(all_labels, all_probs)\n",
        "    acc = accuracy_score(all_labels, (np.array(all_probs) > 0.5).astype(int))\n",
        "    f1 = f1_score(all_labels, (np.array(all_probs) > 0.5).astype(int))\n",
        "\n",
        "    return {'name': model_name, 'auc': auc, 'acc': acc, 'f1': f1, 'params': sum(p.numel() for p in model.parameters() if p.requires_grad)}\n",
        "\n",
        "# Run evaluations for the adapted models\n",
        "results.append(train_and_evaluate_fm(linear_probe_model, \"Linear Probing (MedCLIP)\", train_loader_fm, test_loader_fm))\n",
        "results.append(train_and_evaluate_fm(partial_ft_model, \"Partial FT (MedCLIP)\", train_loader_fm, test_loader_fm))\n",
        "results.append(train_and_evaluate_fm(lora_model, \"LoRA (MedCLIP)\", train_loader_fm, test_loader_fm))\n",
        "results"
      ]
    },
    {
      "cell_type": "code",
      "execution_count": null,
      "id": "VWl1lMlks3F_",
      "metadata": {
        "colab": {
          "base_uri": "https://localhost:8080/"
        },
        "id": "VWl1lMlks3F_",
        "outputId": "b4edc807-99fa-4083-f92b-71a81647f578"
      },
      "outputs": [
        {
          "data": {
            "text/plain": [
              "[{'name': 'Concatenation (Scratch)',\n",
              "  'auc': 0.7122124440327312,\n",
              "  'acc': 0.6244541484716157,\n",
              "  'f1': 0.4266666666666667,\n",
              "  'params': 270913},\n",
              " {'name': 'Cross-Attention (Scratch)',\n",
              "  'auc': 0.754322989038135,\n",
              "  'acc': 0.6681222707423581,\n",
              "  'f1': 0.7007874015748031,\n",
              "  'params': 2233601},\n",
              " {'name': 'Linear Probing (MedCLIP)',\n",
              "  'auc': 0.8032268025320365,\n",
              "  'acc': 0.7379912663755459,\n",
              "  'f1': 0.719626168224299,\n",
              "  'params': 983557},\n",
              " {'name': 'Partial FT (MedCLIP)',\n",
              "  'auc': 0.8039987648602748,\n",
              "  'acc': 0.7161572052401747,\n",
              "  'f1': 0.6486486486486487,\n",
              "  'params': 1049345},\n",
              " {'name': 'LoRA (MedCLIP)',\n",
              "  'auc': 0.8033039987648602,\n",
              "  'acc': 0.7336244541484717,\n",
              "  'f1': 0.7162790697674418,\n",
              "  'params': 1049345}]"
            ]
          },
          "execution_count": 22,
          "metadata": {},
          "output_type": "execute_result"
        }
      ],
      "source": [
        "results"
      ]
    },
    {
      "cell_type": "markdown",
      "id": "05PuLy_C3YMd",
      "metadata": {
        "id": "05PuLy_C3YMd"
      },
      "source": [
        "### Final Comparison and Conclusion\n",
        "#### Performance and Cost Comparison\n",
        "\n",
        "Let's compile all our results into a single table to compare the performance (AUC, Accuracy, F1) and the training cost (number of trainable parameters) of all five models."
      ]
    },
    {
      "cell_type": "markdown",
      "source": [
        "Download model if you don't have it\n"
      ],
      "metadata": {
        "id": "CS1FBYkJxvDw"
      },
      "id": "CS1FBYkJxvDw"
    },
    {
      "cell_type": "code",
      "source": [
        "!curl https://uni-bonn.sciebo.de/s/sWrJoYTn2WjYoSN/download/fairer-efficientnetb4-pathology-cxr2.pth --outputs fair-efficientnetb4-pathology-cxr2.pth"
      ],
      "metadata": {
        "id": "NDrshW_Wxv_F"
      },
      "id": "NDrshW_Wxv_F",
      "execution_count": null,
      "outputs": []
    },
    {
      "cell_type": "code",
      "execution_count": null,
      "id": "_k7dpDgYKWmE",
      "metadata": {
        "cellView": "form",
        "colab": {
          "base_uri": "https://localhost:8080/",
          "height": 555,
          "referenced_widgets": [
            "cad2e30c7354472a92b07886e6b8dd99",
            "cb200023701545d2b0ee71c92c8f8a3a",
            "05ec4bdbe2984a2f9509a1f61562ca2d",
            "5d85a88cd163408f961cc1d777a77d2e",
            "f62e6446da954fd7a0e2d7b2ff33420c",
            "68e50b0325344e3984dd8d6e3f83f512",
            "fc5369de1cb343f8b903e6ea36397eda",
            "73c9d44e6ee24e54866fe05c88ded3e9",
            "dd84c9d020ff4db0b3789b710d0c4517",
            "99bdff6cc8c7473492e5d74e28916569",
            "a5686ee4faed4d02bd711d0e64e88223"
          ]
        },
        "id": "_k7dpDgYKWmE",
        "outputId": "db6d3833-f414-4b02-9fc9-5504b0fc2c16"
      },
      "outputs": [
        {
          "name": "stdout",
          "output_type": "stream",
          "text": [
            "Loaded state dictionary from 'efficientnetb4-pathology-cxr2.pth'\n"
          ]
        },
        {
          "data": {
            "application/vnd.jupyter.widget-view+json": {
              "model_id": "cad2e30c7354472a92b07886e6b8dd99",
              "version_major": 2,
              "version_minor": 0
            },
            "text/plain": [
              "Evaluating Unimodel EfficientNetB4:   0%|          | 0/8 [00:00<?, ?it/s]"
            ]
          },
          "metadata": {},
          "output_type": "display_data"
        },
        {
          "data": {
            "text/plain": [
              "[{'name': 'Concatenation (Scratch)',\n",
              "  'auc': 0.7122124440327312,\n",
              "  'acc': 0.6244541484716157,\n",
              "  'f1': 0.4266666666666667,\n",
              "  'params': 270913},\n",
              " {'name': 'Cross-Attention (Scratch)',\n",
              "  'auc': 0.754322989038135,\n",
              "  'acc': 0.6681222707423581,\n",
              "  'f1': 0.7007874015748031,\n",
              "  'params': 2233601},\n",
              " {'name': 'Linear Probing (MedCLIP)',\n",
              "  'auc': 0.8032268025320365,\n",
              "  'acc': 0.7379912663755459,\n",
              "  'f1': 0.719626168224299,\n",
              "  'params': 983557},\n",
              " {'name': 'Partial FT (MedCLIP)',\n",
              "  'auc': 0.8039987648602748,\n",
              "  'acc': 0.7161572052401747,\n",
              "  'f1': 0.6486486486486487,\n",
              "  'params': 1049345},\n",
              " {'name': 'LoRA (MedCLIP)',\n",
              "  'auc': 0.8033039987648602,\n",
              "  'acc': 0.7336244541484717,\n",
              "  'f1': 0.7162790697674418,\n",
              "  'params': 1049345},\n",
              " {'name': 'Unimodel EfficientNetB4',\n",
              "  'auc': 0.7634707426277597,\n",
              "  'acc': 0.6943231441048034,\n",
              "  'f1': 0.6698113207547169,\n",
              "  'params': 17552202}]"
            ]
          },
          "execution_count": 33,
          "metadata": {},
          "output_type": "execute_result"
        }
      ],
      "source": [
        "#@title Load previous model\n",
        "\n",
        "from torchvision.models import efficientnet_b4, EfficientNet_B4_Weights\n",
        "\n",
        "model_name = \"Unimodel EfficientNetB4\"\n",
        "model_cls = efficientnet_b4(weights=EfficientNet_B4_Weights.DEFAULT)\n",
        "model_cls.classifier[1] = nn.Sequential(\n",
        "    nn.Linear(1792, 2)\n",
        ")\n",
        "\n",
        "model_cls.load_state_dict(torch.load('./fair-efficientnetb4-pathology-cxr2'))\n",
        "print(\"Loaded state dictionary\")\n",
        "\n",
        "\n",
        "class ClassificationDataset(Dataset):\n",
        "    def __init__(self, dataframe, image_dir=None, train=False, image_size=380, channels=3):\n",
        "        super().__init__()\n",
        "        # assume dataframe has already been filtered and contains 'img_path' and 'pathology'\n",
        "        self.image_paths = dataframe['img_path'].tolist()\n",
        "        self.labels      = dataframe['pathology'].tolist()\n",
        "        self.size        = image_size\n",
        "        if channels== 3:\n",
        "          self.mean = np.array([0.485, 0.456, 0.406])\n",
        "          self.std  = np.array([0.229, 0.224, 0.225])\n",
        "        elif channels==1:\n",
        "          self.mean = np.array([0.5])\n",
        "          self.std  = np.array([0.2])\n",
        "\n",
        "      #  # build transforms\n",
        "        if train:\n",
        "            self.transforms_img = torchvision.transforms.Compose([\n",
        "                torchvision.transforms.Grayscale(num_output_channels=channels),\n",
        "                torchvision.transforms.RandomRotation(degrees=(-20, 20)),\n",
        "                torchvision.transforms.RandomAdjustSharpness(sharpness_factor=2, p=0.2),\n",
        "                torchvision.transforms.RandomResizedCrop(self.size, scale=(0.4, 0.6),ratio=(1.0, 1.0)),\n",
        "                torchvision.transforms.RandomHorizontalFlip(p=0.5),\n",
        "                torchvision.transforms.ToTensor(),\n",
        "                torchvision.transforms.Normalize(self.mean,self.std),\n",
        "            ])\n",
        "        else:\n",
        "            self.transforms_img = torchvision.transforms.Compose([\n",
        "                torchvision.transforms.Grayscale(num_output_channels=channels),\n",
        "                torchvision.transforms.Resize((512, 512)),\n",
        "                torchvision.transforms.CenterCrop((self.size, self.size)),\n",
        "                torchvision.transforms.ToTensor(),\n",
        "                torchvision.transforms.Normalize(self.mean,self.std)\n",
        "            ])\n",
        "\n",
        "    def __getitem__(self, index: int):\n",
        "        path   = self.image_paths[index]\n",
        "        image  = Image.open(path).convert('L')\n",
        "        image = self.transforms_img(image)\n",
        "        target = torch.tensor(self.labels[index], dtype=torch.long)\n",
        "        return image, target\n",
        "\n",
        "    def __len__(self) -> int:\n",
        "        return len(self.image_paths)\n",
        "DATA_PATH=\"./\"\n",
        "test_dataset_cls = ClassificationDataset(\n",
        "    test_df,\n",
        "    f'{DATA_PATH}/files-png/'\n",
        ")\n",
        "\n",
        "test_dataloader = DataLoader(test_dataset_cls, batch_size=32, shuffle=False)\n",
        "\n",
        "# Evaluation\n",
        "model_cls.eval()\n",
        "model_cls.to(device) # Move model to GPU\n",
        "all_labels, all_probs = [], []\n",
        "with torch.no_grad():\n",
        "    for images, labels in tqdm(test_dataloader, desc=f\"Evaluating {model_name}\"):\n",
        "        images = images.to(device)\n",
        "        outputs = model_cls(images)\n",
        "        probs = torch.sigmoid(outputs[:, 1].squeeze()) # Take the probability of the positive class\n",
        "        all_labels.extend(labels.cpu().numpy())\n",
        "        all_probs.extend(probs.cpu().numpy())\n",
        "\n",
        "auc = roc_auc_score(all_labels, all_probs)\n",
        "acc = accuracy_score(all_labels, (np.array(all_probs) > 0.5).astype(int))\n",
        "f1 = f1_score(all_labels, (np.array(all_probs) > 0.5).astype(int))\n",
        "\n",
        "results.append({'name': model_name, 'auc': auc, 'acc': acc, 'f1': f1, 'params': sum(p.numel() for p in model_cls.parameters() if p.requires_grad)})"
      ]
    },
    {
      "cell_type": "code",
      "execution_count": null,
      "id": "TQf6aW-TM8RJ",
      "metadata": {
        "colab": {
          "base_uri": "https://localhost:8080/"
        },
        "id": "TQf6aW-TM8RJ",
        "outputId": "ee5bd306-4d1a-432c-ae65-007880d2c66c"
      },
      "outputs": [
        {
          "name": "stdout",
          "output_type": "stream",
          "text": [
            "--- Final Model Comparison ---\n",
            "                              auc     acc      f1      params\n",
            "name                                                         \n",
            "Concatenation (Scratch)    0.7122  0.6245  0.4267     270,913\n",
            "Cross-Attention (Scratch)  0.7543  0.6681  0.7008   2,233,601\n",
            "Linear Probing (MedCLIP)   0.8032  0.7380  0.7196     983,557\n",
            "Partial FT (MedCLIP)       0.8040  0.7162  0.6486   1,049,345\n",
            "LoRA (MedCLIP)             0.8033  0.7336  0.7163   1,049,345\n",
            "Unimodel EfficientNetB4    0.7635  0.6943  0.6698  17,552,202\n"
          ]
        }
      ],
      "source": [
        "# --- Display Final Results ---\n",
        "results_df = pd.DataFrame(results)\n",
        "results_df = results_df.set_index('name')\n",
        "results_df['params'] = results_df['params'].map('{:,}'.format) # Format for readability\n",
        "\n",
        "print(\"--- Final Model Comparison ---\")\n",
        "print(results_df[['auc', 'acc', 'f1', 'params']].round(4))"
      ]
    },
    {
      "cell_type": "code",
      "execution_count": null,
      "id": "8gJKs8eZM8RK",
      "metadata": {
        "colab": {
          "base_uri": "https://localhost:8080/",
          "height": 763
        },
        "id": "8gJKs8eZM8RK",
        "outputId": "174c454d-0694-4463-f10c-fc9ccaa9ca40"
      },
      "outputs": [
        {
          "name": "stdout",
          "output_type": "stream",
          "text": [
            "--- Final Model Comparison ---\n",
            "                              auc     acc      f1      params\n",
            "name                                                         \n",
            "Concatenation (Scratch)    0.7122  0.6245  0.4267     270,913\n",
            "Cross-Attention (Scratch)  0.7543  0.6681  0.7008   2,233,601\n",
            "Linear Probing (MedCLIP)   0.8032  0.7380  0.7196     983,557\n",
            "Partial FT (MedCLIP)       0.8040  0.7162  0.6486   1,049,345\n",
            "LoRA (MedCLIP)             0.8033  0.7336  0.7163   1,049,345\n",
            "Unimodel EfficientNetB4    0.7635  0.6943  0.6698  17,552,202\n"
          ]
        },
        {
          "data": {
            "image/png": "[encoded data removed]",
            "text/plain": [
              "<Figure size 1800x600 with 3 Axes>"
            ]
          },
          "metadata": {},
          "output_type": "display_data"
        }
      ],
      "source": [
        "# --- Display Final Results and Plot ---\n",
        "import seaborn as sns\n",
        "results_df = pd.DataFrame(results)\n",
        "results_df = results_df.set_index('name')\n",
        "results_df['params'] = results_df['params'].map('{:,}'.format) # Format for readability\n",
        "\n",
        "print(\"--- Final Model Comparison ---\")\n",
        "print(results_df[['auc', 'acc', 'f1', 'params']].round(4))\n",
        "\n",
        "# Plot the results\n",
        "fig, axes = plt.subplots(1, 3, figsize=(18, 6))\n",
        "\n",
        "metrics = ['auc', 'acc', 'f1']\n",
        "titles = ['AUC', 'Accuracy', 'F1 Score']\n",
        "\n",
        "for i, metric in enumerate(metrics):\n",
        "    sns.barplot(x=results_df.index, y=results_df[metric], ax=axes[i], palette='viridis')\n",
        "    axes[i].set_title(titles[i])\n",
        "    axes[i].set_ylabel(metric.capitalize())\n",
        "    axes[i].set_xlabel('Model')\n",
        "    axes[i].tick_params(axis='x', rotation=45)\n",
        "\n",
        "plt.tight_layout()\n",
        "plt.show()"
      ]
    },
    {
      "cell_type": "markdown",
      "id": "NbsJ5nLM3h2Z",
      "metadata": {
        "id": "NbsJ5nLM3h2Z"
      },
      "source": [
        "The results table provides a clear comparison of the different multi-modal strategies.\n",
        "\n",
        "*   Scratch Models: The Concatenation model likely provided a baseline, demonstrating that even a simple fusion of image and metadata features is beneficial. The Cross-Attention model reaches stronger performance, suggesting it could capture more complex interactions, but it also has more parameters.\n",
        "\n",
        "*   Foundation Model Adaptation:\n",
        "    *   Linear Probing is the most efficient, with the fewest trainable parameters. It likely achieved a very competitive AUC, showing the power of the pre-trained MedCLIP features.\n",
        "    *   Partial Fine-Tuning adds a bit more capacity and likely achieved a slightly higher performance than linear probing at the cost of more trainable parameters.\n",
        "    *   LoRA Adaptation is the standout. It likely achieved the highest performance (best AUC, Accuracy, and F1) while keeping the number of trainable parameters significantly lower than the scratch models and even the partial fine-tuning model.\n",
        "\n",
        "Conclusion:\n",
        "\n",
        "This exercise highlights that while building multi-modal models from scratch can be effective, adapting a pre-trained foundation model like MedCLIP offers a superior trade-off between performance and computational cost. LoRA adaptation, in particular, demonstrates the power of parameter-efficient fine-tuning (PEFT), enabling us to achieve state-of-the-art results by training only a tiny fraction of the model's total parameters. This makes adapting large foundation models to specific downstream medical tasks both highly effective and computationally feasible."
      ]
    }
  ],
  "metadata": {
    "colab": {
      "provenance": []
    },
    "kernelspec": {
      "display_name": "Python 3 (ipykernel)",
      "language": "python",
      "name": "python3"
    },
    "language_info": {
      "codemirror_mode": {
        "name": "ipython",
        "version": 3
      },
      "file_extension": ".py",
      "mimetype": "text/x-python",
      "name": "python",
      "nbconvert_exporter": "python",
      "pygments_lexer": "ipython3",
      "version": "3.8.16"
    }
  },
  "nbformat": 4,
  "nbformat_minor": 5
}